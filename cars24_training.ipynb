import numpy as np
import pandas as pd
import matplotlib.pyplot as plt
import seaborn as sns
#from sklearn.preprocessing import TargetEncoder
#import category_encoders as ce
#import streamlit as sk

# import data
df =  pd.read_csv('cars24-car-price.csv')
print(df.head())

# create encoding for categorical data 
# target encoding
#target_encode = ce.TargetEncoder()
df.columns
cols = ['seller_type', 'fuel_type', 'transmission_type']
for i in cols:
    df[i] = 

