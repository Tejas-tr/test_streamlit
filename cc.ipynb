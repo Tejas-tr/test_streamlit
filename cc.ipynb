{
 "cells": [
  {
   "cell_type": "code",
   "execution_count": 16,
   "metadata": {},
   "outputs": [],
   "source": [
    "import numpy as np\n",
    "import pandas as pd\n",
    "import matplotlib.pyplot as plt\n",
    "import seaborn as sns\n",
    "from sklearn.preprocessing import TargetEncoder\n",
    "import category_encoders as ce\n",
    "df =  pd.read_csv('cars24-car-price.csv')"
   ]
  },
  {
   "cell_type": "code",
   "execution_count": 3,
   "metadata": {},
   "outputs": [
    {
     "name": "stdout",
     "output_type": "stream",
     "text": [
      "                                        full_name  selling_price    year   \n",
      "0                                 Maruti Alto Std           1.20  2012.0  \\\n",
      "1                          Hyundai Grand i10 Asta           5.50  2016.0   \n",
      "2                                Hyundai i20 Asta           2.15  2010.0   \n",
      "3                   Maruti Alto K10 2010-2014 VXI           2.26  2012.0   \n",
      "4  Ford Ecosport 2015-2021 1.5 TDCi Titanium BSIV           5.70  2015.0   \n",
      "\n",
      "  seller_type  km_driven fuel_type transmission_type  mileage  engine   \n",
      "0  Individual     120000    Petrol            Manual    19.70   796.0  \\\n",
      "1  Individual      20000    Petrol            Manual    18.90  1197.0   \n",
      "2  Individual      60000    Petrol            Manual    17.00  1197.0   \n",
      "3  Individual      37000    Petrol            Manual    20.92   998.0   \n",
      "4      Dealer      30000    Diesel            Manual    22.77  1498.0   \n",
      "\n",
      "   max_power  seats  \n",
      "0      46.30    5.0  \n",
      "1      82.00    5.0  \n",
      "2      80.00    5.0  \n",
      "3      67.10    5.0  \n",
      "4      98.59    5.0  \n"
     ]
    }
   ],
   "source": [
    "print(df.head())"
   ]
  },
  {
   "cell_type": "code",
   "execution_count": 4,
   "metadata": {},
   "outputs": [],
   "source": [
    "encode_dict={\n",
    "    \"fuel_type\": {\"Diesel\": 1, \"Petrol\": 2, \"CNG\": 3, \"LPG\": 4, \"Electric\": 5},\n",
    "     \"transmission_type\": {\"Manual\": 1, \"Automatic\": 2},\n",
    "\t \"seller_type\": {\"Dealer\": 1, \"Individual\": 2, \"Trustmark Dealer\": 3}\n",
    "\n",
    "     }"
   ]
  },
  {
   "cell_type": "code",
   "execution_count": null,
   "metadata": {},
   "outputs": [],
   "source": []
  }
 ],
 "metadata": {
  "kernelspec": {
   "display_name": "Python 3",
   "language": "python",
   "name": "python3"
  },
  "language_info": {
   "codemirror_mode": {
    "name": "ipython",
    "version": 3
   },
   "file_extension": ".py",
   "mimetype": "text/x-python",
   "name": "python",
   "nbconvert_exporter": "python",
   "pygments_lexer": "ipython3",
   "version": "3.10.6"
  }
 },
 "nbformat": 4,
 "nbformat_minor": 2
}
